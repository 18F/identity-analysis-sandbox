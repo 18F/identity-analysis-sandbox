{
 "cells": [
  {
   "cell_type": "code",
   "execution_count": 1,
   "metadata": {
    "collapsed": true
   },
   "outputs": [],
   "source": [
    "%matplotlib inline\n",
    "\n",
    "import json\n",
    "import pandas as pd\n",
    "\n",
    "from datetime import datetime"
   ]
  },
  {
   "cell_type": "code",
   "execution_count": 2,
   "metadata": {
    "collapsed": false
   },
   "outputs": [
    {
     "data": {
      "text/plain": [
       "60"
      ]
     },
     "execution_count": 2,
     "metadata": {},
     "output_type": "execute_result"
    }
   ],
   "source": [
    "with open('events-sample.log') as f:\n",
    "    data = [json.loads(line) for line in f]\n",
    "\n",
    "len(data)"
   ]
  },
  {
   "cell_type": "code",
   "execution_count": 3,
   "metadata": {
    "collapsed": false
   },
   "outputs": [
    {
     "data": {
      "text/plain": [
       "{'id': '9dfd764a-de98-4692-bf5f-44597d45aeae',\n",
       " 'name': 'Sign in page visited',\n",
       " 'properties': {'event_properties': {},\n",
       "  'host': 'localhost',\n",
       "  'user_agent': 'Mozilla/5.0 (Macintosh; Intel Mac OS X 10_11_6) AppleWebKit/537.36 (KHTML, like Gecko) Chrome/54.0.2840.98 Safari/537.36',\n",
       "  'user_id': 'anonymous-uuid',\n",
       "  'user_ip': '127.0.0.1'},\n",
       " 'time': '2016-12-05T14:34:15.361Z',\n",
       " 'visit_id': 'e0af98a1-af4b-40ec-9317-bc6dff3c796f',\n",
       " 'visitor_id': '3691d6d7-1ba2-48fe-9bd3-3a66d01fee94'}"
      ]
     },
     "execution_count": 3,
     "metadata": {},
     "output_type": "execute_result"
    }
   ],
   "source": [
    "data[0]"
   ]
  },
  {
   "cell_type": "code",
   "execution_count": 4,
   "metadata": {
    "collapsed": false
   },
   "outputs": [
    {
     "data": {
      "text/plain": [
       "{'id': '5c6cb97e-d6ba-4e69-94c2-8b6c2220b3f5',\n",
       " 'name': 'Multi-Factor Authentication: enter OTP visited',\n",
       " 'properties': {'event_properties': {'confirmation_for_phone_change': False,\n",
       "   'context': 'confirmation',\n",
       "   'method': 'sms'},\n",
       "  'host': 'localhost',\n",
       "  'user_agent': 'Mozilla/5.0 (Macintosh; Intel Mac OS X 10_11_6) AppleWebKit/537.36 (KHTML, like Gecko) Chrome/54.0.2840.98 Safari/537.36',\n",
       "  'user_id': 'ffb8217e-a7d7-4e8f-95a0-18ebd6276226',\n",
       "  'user_ip': '127.0.0.1'},\n",
       " 'time': '2016-12-05T14:37:51.252Z',\n",
       " 'visit_id': '9a527d60-4e62-42d8-883a-f3439e2aac01',\n",
       " 'visitor_id': '1806ae63-6e96-4243-baff-e14b67f02474'}"
      ]
     },
     "execution_count": 4,
     "metadata": {},
     "output_type": "execute_result"
    }
   ],
   "source": [
    "data[-1]"
   ]
  },
  {
   "cell_type": "code",
   "execution_count": 5,
   "metadata": {
    "collapsed": false
   },
   "outputs": [
    {
     "data": {
      "text/plain": [
       "60"
      ]
     },
     "execution_count": 5,
     "metadata": {},
     "output_type": "execute_result"
    }
   ],
   "source": [
    "# filter to events\n",
    "\n",
    "events = [d for d in data if d.get('visit_id') is not None]\n",
    "\n",
    "len(events)"
   ]
  },
  {
   "cell_type": "code",
   "execution_count": 6,
   "metadata": {
    "collapsed": false
   },
   "outputs": [
    {
     "name": "stdout",
     "output_type": "stream",
     "text": [
      "{'name': 'Sign in page visited', 'time': '2016-12-05T14:34:15.361Z', 'id': '9dfd764a-de98-4692-bf5f-44597d45aeae', 'visit_id': 'e0af98a1-af4b-40ec-9317-bc6dff3c796f', 'properties': {'user_ip': '127.0.0.1', 'host': 'localhost', 'event_properties': {}, 'user_agent': 'Mozilla/5.0 (Macintosh; Intel Mac OS X 10_11_6) AppleWebKit/537.36 (KHTML, like Gecko) Chrome/54.0.2840.98 Safari/537.36', 'user_id': 'anonymous-uuid'}, 'visitor_id': '3691d6d7-1ba2-48fe-9bd3-3a66d01fee94'}\n",
      "---\n",
      "{'name': 'User Registration: intro visited', 'time': '2016-12-05T14:34:32.195Z', 'id': 'c5a827fb-f8d7-4415-90ba-13076db519c9', 'visit_id': '711a25fc-5963-48f3-a034-2f6d1afbf959', 'properties': {'user_ip': '127.0.0.1', 'host': 'localhost', 'event_properties': {}, 'user_agent': 'Mozilla/5.0 (Macintosh; Intel Mac OS X 10_11_6) AppleWebKit/537.36 (KHTML, like Gecko) Chrome/54.0.2840.98 Safari/537.36', 'user_id': 'anonymous-uuid'}, 'visitor_id': '3691d6d7-1ba2-48fe-9bd3-3a66d01fee94'}\n",
      "---\n",
      "{'name': 'User Registration: enter email visited', 'time': '2016-12-05T14:34:35.022Z', 'id': '1b6b47b2-27a3-4ce5-a0d2-14a1788843c1', 'visit_id': '711a25fc-5963-48f3-a034-2f6d1afbf959', 'properties': {'user_ip': '127.0.0.1', 'host': 'localhost', 'event_properties': {}, 'user_agent': 'Mozilla/5.0 (Macintosh; Intel Mac OS X 10_11_6) AppleWebKit/537.36 (KHTML, like Gecko) Chrome/54.0.2840.98 Safari/537.36', 'user_id': 'anonymous-uuid'}, 'visitor_id': '3691d6d7-1ba2-48fe-9bd3-3a66d01fee94'}\n",
      "---\n"
     ]
    }
   ],
   "source": [
    "for e in events[:3]:\n",
    "    print('{}\\n---'.format(e))"
   ]
  },
  {
   "cell_type": "code",
   "execution_count": 7,
   "metadata": {
    "collapsed": false
   },
   "outputs": [
    {
     "data": {
      "text/html": [
       "<div>\n",
       "<table border=\"1\" class=\"dataframe\">\n",
       "  <thead>\n",
       "    <tr style=\"text-align: right;\">\n",
       "      <th></th>\n",
       "      <th>epoch</th>\n",
       "      <th>time</th>\n",
       "      <th>id</th>\n",
       "      <th>visit_id</th>\n",
       "      <th>visitor_id</th>\n",
       "      <th>user_agent</th>\n",
       "      <th>user_id</th>\n",
       "      <th>user_ip</th>\n",
       "      <th>name</th>\n",
       "      <th>event_properties</th>\n",
       "    </tr>\n",
       "  </thead>\n",
       "  <tbody>\n",
       "    <tr>\n",
       "      <th>0</th>\n",
       "      <td>1.480966e+09</td>\n",
       "      <td>2016-12-05T14:34:15.361Z</td>\n",
       "      <td>9dfd764a-de98-4692-bf5f-44597d45aeae</td>\n",
       "      <td>e0af98a1-af4b-40ec-9317-bc6dff3c796f</td>\n",
       "      <td>3691d6d7-1ba2-48fe-9bd3-3a66d01fee94</td>\n",
       "      <td>Mozilla/5.0 (Macintosh; Intel Mac OS X 10_11_6...</td>\n",
       "      <td>anonymous-uuid</td>\n",
       "      <td>127.0.0.1</td>\n",
       "      <td>Sign in page visited</td>\n",
       "      <td>{}</td>\n",
       "    </tr>\n",
       "    <tr>\n",
       "      <th>1</th>\n",
       "      <td>1.480966e+09</td>\n",
       "      <td>2016-12-05T14:34:32.195Z</td>\n",
       "      <td>c5a827fb-f8d7-4415-90ba-13076db519c9</td>\n",
       "      <td>711a25fc-5963-48f3-a034-2f6d1afbf959</td>\n",
       "      <td>3691d6d7-1ba2-48fe-9bd3-3a66d01fee94</td>\n",
       "      <td>Mozilla/5.0 (Macintosh; Intel Mac OS X 10_11_6...</td>\n",
       "      <td>anonymous-uuid</td>\n",
       "      <td>127.0.0.1</td>\n",
       "      <td>User Registration: intro visited</td>\n",
       "      <td>{}</td>\n",
       "    </tr>\n",
       "    <tr>\n",
       "      <th>2</th>\n",
       "      <td>1.480966e+09</td>\n",
       "      <td>2016-12-05T14:34:35.022Z</td>\n",
       "      <td>1b6b47b2-27a3-4ce5-a0d2-14a1788843c1</td>\n",
       "      <td>711a25fc-5963-48f3-a034-2f6d1afbf959</td>\n",
       "      <td>3691d6d7-1ba2-48fe-9bd3-3a66d01fee94</td>\n",
       "      <td>Mozilla/5.0 (Macintosh; Intel Mac OS X 10_11_6...</td>\n",
       "      <td>anonymous-uuid</td>\n",
       "      <td>127.0.0.1</td>\n",
       "      <td>User Registration: enter email visited</td>\n",
       "      <td>{}</td>\n",
       "    </tr>\n",
       "    <tr>\n",
       "      <th>3</th>\n",
       "      <td>1.480966e+09</td>\n",
       "      <td>2016-12-05T14:34:49.724Z</td>\n",
       "      <td>78da6e4e-5241-4967-8e39-e725d1ddc8e9</td>\n",
       "      <td>711a25fc-5963-48f3-a034-2f6d1afbf959</td>\n",
       "      <td>3691d6d7-1ba2-48fe-9bd3-3a66d01fee94</td>\n",
       "      <td>Mozilla/5.0 (Macintosh; Intel Mac OS X 10_11_6...</td>\n",
       "      <td>12f78b17-a3da-40ff-941c-4c446fbf9570</td>\n",
       "      <td>127.0.0.1</td>\n",
       "      <td>User Registration: Email Submitted</td>\n",
       "      <td>{'email_already_exists': False, 'errors': [], ...</td>\n",
       "    </tr>\n",
       "    <tr>\n",
       "      <th>4</th>\n",
       "      <td>1.480966e+09</td>\n",
       "      <td>2016-12-05T14:34:53.335Z</td>\n",
       "      <td>e40f476c-608f-4686-95c7-3762bcfce7e4</td>\n",
       "      <td>711a25fc-5963-48f3-a034-2f6d1afbf959</td>\n",
       "      <td>3691d6d7-1ba2-48fe-9bd3-3a66d01fee94</td>\n",
       "      <td>Mozilla/5.0 (Macintosh; Intel Mac OS X 10_11_6...</td>\n",
       "      <td>anonymous-uuid</td>\n",
       "      <td>127.0.0.1</td>\n",
       "      <td>Sign in page visited</td>\n",
       "      <td>{}</td>\n",
       "    </tr>\n",
       "  </tbody>\n",
       "</table>\n",
       "</div>"
      ],
      "text/plain": [
       "          epoch                      time  \\\n",
       "0  1.480966e+09  2016-12-05T14:34:15.361Z   \n",
       "1  1.480966e+09  2016-12-05T14:34:32.195Z   \n",
       "2  1.480966e+09  2016-12-05T14:34:35.022Z   \n",
       "3  1.480966e+09  2016-12-05T14:34:49.724Z   \n",
       "4  1.480966e+09  2016-12-05T14:34:53.335Z   \n",
       "\n",
       "                                     id                              visit_id  \\\n",
       "0  9dfd764a-de98-4692-bf5f-44597d45aeae  e0af98a1-af4b-40ec-9317-bc6dff3c796f   \n",
       "1  c5a827fb-f8d7-4415-90ba-13076db519c9  711a25fc-5963-48f3-a034-2f6d1afbf959   \n",
       "2  1b6b47b2-27a3-4ce5-a0d2-14a1788843c1  711a25fc-5963-48f3-a034-2f6d1afbf959   \n",
       "3  78da6e4e-5241-4967-8e39-e725d1ddc8e9  711a25fc-5963-48f3-a034-2f6d1afbf959   \n",
       "4  e40f476c-608f-4686-95c7-3762bcfce7e4  711a25fc-5963-48f3-a034-2f6d1afbf959   \n",
       "\n",
       "                             visitor_id  \\\n",
       "0  3691d6d7-1ba2-48fe-9bd3-3a66d01fee94   \n",
       "1  3691d6d7-1ba2-48fe-9bd3-3a66d01fee94   \n",
       "2  3691d6d7-1ba2-48fe-9bd3-3a66d01fee94   \n",
       "3  3691d6d7-1ba2-48fe-9bd3-3a66d01fee94   \n",
       "4  3691d6d7-1ba2-48fe-9bd3-3a66d01fee94   \n",
       "\n",
       "                                          user_agent  \\\n",
       "0  Mozilla/5.0 (Macintosh; Intel Mac OS X 10_11_6...   \n",
       "1  Mozilla/5.0 (Macintosh; Intel Mac OS X 10_11_6...   \n",
       "2  Mozilla/5.0 (Macintosh; Intel Mac OS X 10_11_6...   \n",
       "3  Mozilla/5.0 (Macintosh; Intel Mac OS X 10_11_6...   \n",
       "4  Mozilla/5.0 (Macintosh; Intel Mac OS X 10_11_6...   \n",
       "\n",
       "                                user_id    user_ip  \\\n",
       "0                        anonymous-uuid  127.0.0.1   \n",
       "1                        anonymous-uuid  127.0.0.1   \n",
       "2                        anonymous-uuid  127.0.0.1   \n",
       "3  12f78b17-a3da-40ff-941c-4c446fbf9570  127.0.0.1   \n",
       "4                        anonymous-uuid  127.0.0.1   \n",
       "\n",
       "                                     name  \\\n",
       "0                    Sign in page visited   \n",
       "1        User Registration: intro visited   \n",
       "2  User Registration: enter email visited   \n",
       "3      User Registration: Email Submitted   \n",
       "4                    Sign in page visited   \n",
       "\n",
       "                                    event_properties  \n",
       "0                                                 {}  \n",
       "1                                                 {}  \n",
       "2                                                 {}  \n",
       "3  {'email_already_exists': False, 'errors': [], ...  \n",
       "4                                                 {}  "
      ]
     },
     "execution_count": 7,
     "metadata": {},
     "output_type": "execute_result"
    }
   ],
   "source": [
    "# create df\n",
    "\n",
    "cols = [\n",
    "    'time', 'id', 'visit_id', 'visitor_id',\n",
    "    'name', 'properties'\n",
    "]\n",
    "\n",
    "df = pd.DataFrame(events, columns=cols)\n",
    "\n",
    "df['epoch'] = df['time'].apply(\n",
    "    lambda x: datetime.strptime(x.split(' +')[0], \"%Y-%m-%dT%H:%M:%S.%fZ\").timestamp()\n",
    ")\n",
    "\n",
    "for c in ['user_agent', 'user_id', 'user_ip', 'event_properties']:\n",
    "    df[c] = df['properties'].apply(lambda x: x.get(c))\n",
    "\n",
    "final_cols = [\n",
    "    'epoch', 'time', 'id', 'visit_id', 'visitor_id',\n",
    "    'user_agent', 'user_id', 'user_ip',\n",
    "    'name', 'event_properties'\n",
    "]\n",
    "\n",
    "df = df[final_cols]\n",
    "\n",
    "df.head()"
   ]
  },
  {
   "cell_type": "code",
   "execution_count": 8,
   "metadata": {
    "collapsed": false
   },
   "outputs": [
    {
     "data": {
      "text/plain": [
       "epoch                                                     1.48097e+09\n",
       "time                                         2016-12-05T14:34:15.361Z\n",
       "id                               9dfd764a-de98-4692-bf5f-44597d45aeae\n",
       "visit_id                         e0af98a1-af4b-40ec-9317-bc6dff3c796f\n",
       "visitor_id                       3691d6d7-1ba2-48fe-9bd3-3a66d01fee94\n",
       "user_agent          Mozilla/5.0 (Macintosh; Intel Mac OS X 10_11_6...\n",
       "user_id                                                anonymous-uuid\n",
       "user_ip                                                     127.0.0.1\n",
       "name                                             Sign in page visited\n",
       "event_properties                                                   {}\n",
       "Name: 0, dtype: object"
      ]
     },
     "execution_count": 8,
     "metadata": {},
     "output_type": "execute_result"
    }
   ],
   "source": [
    "df.iloc[0]"
   ]
  },
  {
   "cell_type": "code",
   "execution_count": 9,
   "metadata": {
    "collapsed": false
   },
   "outputs": [
    {
     "name": "stdout",
     "output_type": "stream",
     "text": [
      "Sign in page visited                              13\n",
      "User Registration: intro visited                   5\n",
      "Email and Password Authentication                  5\n",
      "User Registration: enter email visited             5\n",
      "Multi-Factor Authentication: enter OTP visited     5\n",
      "OTP: Delivery Selection                            5\n",
      "User Registration: Email Submitted                 4\n",
      "Multi-Factor Authentication                        4\n",
      "Password Creation                                  3\n",
      "2FA setup: valid phone number                      3\n",
      "Email Confirmation                                 3\n",
      "User Registration: phone setup visited             3\n",
      "User Registration: recovery code visited           2\n",
      "Name: name, dtype: int64\n",
      "\n",
      "Axes(0.125,0.125;0.775x0.775)\n"
     ]
    },
    {
     "data": {
      "image/png": "[encoded data removed]",
      "text/plain": [
       "<matplotlib.figure.Figure at 0x10a9647f0>"
      ]
     },
     "metadata": {},
     "output_type": "display_data"
    }
   ],
   "source": [
    "# counts by event\n",
    "\n",
    "event_cts = df['name'].value_counts()\n",
    "\n",
    "print(event_cts)\n",
    "print()\n",
    "print(event_cts.sort_values().plot(kind='barh'))"
   ]
  },
  {
   "cell_type": "code",
   "execution_count": 10,
   "metadata": {
    "collapsed": false
   },
   "outputs": [
    {
     "data": {
      "text/html": [
       "<div>\n",
       "<table border=\"1\" class=\"dataframe\">\n",
       "  <thead>\n",
       "    <tr style=\"text-align: right;\">\n",
       "      <th></th>\n",
       "      <th>epoch</th>\n",
       "      <th>time</th>\n",
       "      <th>id</th>\n",
       "      <th>visit_id</th>\n",
       "      <th>visitor_id</th>\n",
       "      <th>user_agent</th>\n",
       "      <th>user_id</th>\n",
       "      <th>user_ip</th>\n",
       "      <th>name</th>\n",
       "      <th>event_properties</th>\n",
       "    </tr>\n",
       "  </thead>\n",
       "  <tbody>\n",
       "    <tr>\n",
       "      <th>30</th>\n",
       "      <td>1.480967e+09</td>\n",
       "      <td>2016-12-05T14:36:32.912Z</td>\n",
       "      <td>455102a2-bc5f-4ab9-9d9d-c60b4d0132fd</td>\n",
       "      <td>bbd663db-3174-4e7d-b711-88e81d8c8ef8</td>\n",
       "      <td>f7dc9649-81d6-4a8f-9d33-919d05f8c7d8</td>\n",
       "      <td>Mozilla/5.0 (Macintosh; Intel Mac OS X 10_11_6...</td>\n",
       "      <td>12f78b17-a3da-40ff-941c-4c446fbf9570</td>\n",
       "      <td>127.0.0.1</td>\n",
       "      <td>Email and Password Authentication</td>\n",
       "      <td>{'success?': True, 'user_locked_out': False}</td>\n",
       "    </tr>\n",
       "    <tr>\n",
       "      <th>32</th>\n",
       "      <td>1.480967e+09</td>\n",
       "      <td>2016-12-05T14:36:47.042Z</td>\n",
       "      <td>3517868e-3a09-4bde-a5e4-138bff0d2312</td>\n",
       "      <td>d1ff1255-1db0-4fb5-990b-45136d880077</td>\n",
       "      <td>f325a3ac-8144-42b7-82d7-36dd462729f6</td>\n",
       "      <td>Mozilla/5.0 (Macintosh; Intel Mac OS X 10_11_6...</td>\n",
       "      <td>12f78b17-a3da-40ff-941c-4c446fbf9570</td>\n",
       "      <td>127.0.0.1</td>\n",
       "      <td>Email and Password Authentication</td>\n",
       "      <td>{'success?': True, 'user_locked_out': False}</td>\n",
       "    </tr>\n",
       "    <tr>\n",
       "      <th>37</th>\n",
       "      <td>1.480967e+09</td>\n",
       "      <td>2016-12-05T14:36:56.707Z</td>\n",
       "      <td>399fcf53-2219-4f64-b37f-5308597265e3</td>\n",
       "      <td>26c9ad60-dcb2-4439-a6cf-e9eb6a80d574</td>\n",
       "      <td>66f58390-c0e4-4bf1-a31d-2779d0ce54fd</td>\n",
       "      <td>Mozilla/5.0 (Macintosh; Intel Mac OS X 10_11_6...</td>\n",
       "      <td>12f78b17-a3da-40ff-941c-4c446fbf9570</td>\n",
       "      <td>127.0.0.1</td>\n",
       "      <td>Email and Password Authentication</td>\n",
       "      <td>{'success?': False, 'user_locked_out': False}</td>\n",
       "    </tr>\n",
       "    <tr>\n",
       "      <th>40</th>\n",
       "      <td>1.480967e+09</td>\n",
       "      <td>2016-12-05T14:37:04.739Z</td>\n",
       "      <td>708a0892-3d18-48cd-8b33-10edf73c5457</td>\n",
       "      <td>93183719-23c7-4563-8293-9b908d1e70cb</td>\n",
       "      <td>3abc64b8-7419-4b14-a727-3bb514996a5b</td>\n",
       "      <td>Mozilla/5.0 (Macintosh; Intel Mac OS X 10_11_6...</td>\n",
       "      <td>12f78b17-a3da-40ff-941c-4c446fbf9570</td>\n",
       "      <td>127.0.0.1</td>\n",
       "      <td>Email and Password Authentication</td>\n",
       "      <td>{'success?': False, 'user_locked_out': False}</td>\n",
       "    </tr>\n",
       "    <tr>\n",
       "      <th>42</th>\n",
       "      <td>1.480967e+09</td>\n",
       "      <td>2016-12-05T14:37:09.656Z</td>\n",
       "      <td>594abb81-5dc0-4c9c-8a9e-26cc012a3537</td>\n",
       "      <td>93183719-23c7-4563-8293-9b908d1e70cb</td>\n",
       "      <td>3abc64b8-7419-4b14-a727-3bb514996a5b</td>\n",
       "      <td>Mozilla/5.0 (Macintosh; Intel Mac OS X 10_11_6...</td>\n",
       "      <td>12f78b17-a3da-40ff-941c-4c446fbf9570</td>\n",
       "      <td>127.0.0.1</td>\n",
       "      <td>Email and Password Authentication</td>\n",
       "      <td>{'success?': True, 'user_locked_out': False}</td>\n",
       "    </tr>\n",
       "  </tbody>\n",
       "</table>\n",
       "</div>"
      ],
      "text/plain": [
       "           epoch                      time  \\\n",
       "30  1.480967e+09  2016-12-05T14:36:32.912Z   \n",
       "32  1.480967e+09  2016-12-05T14:36:47.042Z   \n",
       "37  1.480967e+09  2016-12-05T14:36:56.707Z   \n",
       "40  1.480967e+09  2016-12-05T14:37:04.739Z   \n",
       "42  1.480967e+09  2016-12-05T14:37:09.656Z   \n",
       "\n",
       "                                      id  \\\n",
       "30  455102a2-bc5f-4ab9-9d9d-c60b4d0132fd   \n",
       "32  3517868e-3a09-4bde-a5e4-138bff0d2312   \n",
       "37  399fcf53-2219-4f64-b37f-5308597265e3   \n",
       "40  708a0892-3d18-48cd-8b33-10edf73c5457   \n",
       "42  594abb81-5dc0-4c9c-8a9e-26cc012a3537   \n",
       "\n",
       "                                visit_id  \\\n",
       "30  bbd663db-3174-4e7d-b711-88e81d8c8ef8   \n",
       "32  d1ff1255-1db0-4fb5-990b-45136d880077   \n",
       "37  26c9ad60-dcb2-4439-a6cf-e9eb6a80d574   \n",
       "40  93183719-23c7-4563-8293-9b908d1e70cb   \n",
       "42  93183719-23c7-4563-8293-9b908d1e70cb   \n",
       "\n",
       "                              visitor_id  \\\n",
       "30  f7dc9649-81d6-4a8f-9d33-919d05f8c7d8   \n",
       "32  f325a3ac-8144-42b7-82d7-36dd462729f6   \n",
       "37  66f58390-c0e4-4bf1-a31d-2779d0ce54fd   \n",
       "40  3abc64b8-7419-4b14-a727-3bb514996a5b   \n",
       "42  3abc64b8-7419-4b14-a727-3bb514996a5b   \n",
       "\n",
       "                                           user_agent  \\\n",
       "30  Mozilla/5.0 (Macintosh; Intel Mac OS X 10_11_6...   \n",
       "32  Mozilla/5.0 (Macintosh; Intel Mac OS X 10_11_6...   \n",
       "37  Mozilla/5.0 (Macintosh; Intel Mac OS X 10_11_6...   \n",
       "40  Mozilla/5.0 (Macintosh; Intel Mac OS X 10_11_6...   \n",
       "42  Mozilla/5.0 (Macintosh; Intel Mac OS X 10_11_6...   \n",
       "\n",
       "                                 user_id    user_ip  \\\n",
       "30  12f78b17-a3da-40ff-941c-4c446fbf9570  127.0.0.1   \n",
       "32  12f78b17-a3da-40ff-941c-4c446fbf9570  127.0.0.1   \n",
       "37  12f78b17-a3da-40ff-941c-4c446fbf9570  127.0.0.1   \n",
       "40  12f78b17-a3da-40ff-941c-4c446fbf9570  127.0.0.1   \n",
       "42  12f78b17-a3da-40ff-941c-4c446fbf9570  127.0.0.1   \n",
       "\n",
       "                                 name  \\\n",
       "30  Email and Password Authentication   \n",
       "32  Email and Password Authentication   \n",
       "37  Email and Password Authentication   \n",
       "40  Email and Password Authentication   \n",
       "42  Email and Password Authentication   \n",
       "\n",
       "                                 event_properties  \n",
       "30   {'success?': True, 'user_locked_out': False}  \n",
       "32   {'success?': True, 'user_locked_out': False}  \n",
       "37  {'success?': False, 'user_locked_out': False}  \n",
       "40  {'success?': False, 'user_locked_out': False}  \n",
       "42   {'success?': True, 'user_locked_out': False}  "
      ]
     },
     "execution_count": 10,
     "metadata": {},
     "output_type": "execute_result"
    }
   ],
   "source": [
    "# login success / fail\n",
    "\n",
    "df[df.name == 'Email and Password Authentication'].head()"
   ]
  },
  {
   "cell_type": "code",
   "execution_count": 11,
   "metadata": {
    "collapsed": false
   },
   "outputs": [
    {
     "name": "stdout",
     "output_type": "stream",
     "text": [
      "User Registration: intro visited          5\n",
      "User Registration: enter email visited    5\n",
      "Password Creation                         3\n",
      "User Registration: phone setup visited    3\n",
      "Multi-Factor Authentication               2\n",
      "dtype: int64\n"
     ]
    }
   ],
   "source": [
    "GROUP_KEY = 'visitor_id'\n",
    "TIME_FIELD = 'epoch'\n",
    "EVENT_FIELD = 'name'\n",
    "FUNNEL_STEPS = [\n",
    "    'User Registration: intro visited',\n",
    "    'User Registration: enter email visited',\n",
    "    'Password Creation',\n",
    "    'User Registration: phone setup visited',\n",
    "    'Multi-Factor Authentication',\n",
    "]\n",
    "\n",
    "def funnelize(group, funnel_steps):\n",
    "    curr = 0\n",
    "    funnel_cts = [0 for s in funnel_steps]\n",
    "\n",
    "    for i, row in group.iterrows():\n",
    "        evt = row[EVENT_FIELD]\n",
    "        if evt in funnel_steps:\n",
    "            idx = funnel_steps.index(evt)\n",
    "            if idx <= curr + 1:\n",
    "                funnel_cts[idx] += 1\n",
    "                curr = idx\n",
    "        \n",
    "    return funnel_cts\n",
    "\n",
    "# sort event dataset by time\n",
    "df.sort_values(by=TIME_FIELD, ascending=True, inplace=True)\n",
    "\n",
    "# step through events by group_key (i.e., browser, visit), \n",
    "# and increment event counts by funnel step if prior funnel steps occurred\n",
    "funnel_cts = df.groupby(GROUP_KEY).apply(funnelize, FUNNEL_STEPS)\n",
    "\n",
    "# format results as a dataframe\n",
    "funnel = pd.DataFrame(list(funnel_cts.values), index=funnel_cts.index, columns=FUNNEL_STEPS)\n",
    "\n",
    "print(funnel[FUNNEL_STEPS].sum())"
   ]
  },
  {
   "cell_type": "code",
   "execution_count": 12,
   "metadata": {
    "collapsed": false
   },
   "outputs": [
    {
     "name": "stdout",
     "output_type": "stream",
     "text": [
      "User Registration: intro visited          5\n",
      "User Registration: enter email visited    5\n",
      "Password Creation                         3\n",
      "User Registration: phone setup visited    3\n",
      "Multi-Factor Authentication               2\n",
      "dtype: int64\n"
     ]
    }
   ],
   "source": [
    "# funnel summary, deduped across group key \n",
    "# (i.e., event occurrences become 1/0 indicators instead of counts)\n",
    "\n",
    "funnel_norm = funnel.copy()\n",
    "funnel_norm[funnel_norm != 0] = 1\n",
    "print(funnel_norm[FUNNEL_STEPS].sum())"
   ]
  },
  {
   "cell_type": "code",
   "execution_count": 13,
   "metadata": {
    "collapsed": false
   },
   "outputs": [
    {
     "name": "stdout",
     "output_type": "stream",
     "text": [
      "0.4\n"
     ]
    }
   ],
   "source": [
    "# full completion rate\n",
    "\n",
    "print(float(funnel_norm[FUNNEL_STEPS[-1]].sum()) / funnel_norm[FUNNEL_STEPS[0]].sum())"
   ]
  }
 ],
 "metadata": {
  "kernelspec": {
   "display_name": "Python 3",
   "language": "python",
   "name": "python3"
  },
  "language_info": {
   "codemirror_mode": {
    "name": "ipython",
    "version": 3
   },
   "file_extension": ".py",
   "mimetype": "text/x-python",
   "name": "python",
   "nbconvert_exporter": "python",
   "pygments_lexer": "ipython3",
   "version": "3.5.1"
  }
 },
 "nbformat": 4,
 "nbformat_minor": 1
}
